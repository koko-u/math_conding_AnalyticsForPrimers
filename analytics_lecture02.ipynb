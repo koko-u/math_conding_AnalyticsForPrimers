{
 "cells": [
  {
   "cell_type": "markdown",
   "metadata": {},
   "source": [
    "github上では、jyupter上のlatexがうまく動作しません。\n",
    "\n",
    "[Jupyter nbviewer](http://nbviewer.jupyter.org/)のページで当ページのURLを貼り付けて、表示させてください。"
   ]
  },
  {
   "cell_type": "markdown",
   "metadata": {},
   "source": [
    "自然対数$e$は、$n\\in\\mathbb{N}$に対して、\n",
    "\n",
    "$$\n",
    "\\lim_{n\\rightarrow\\infty}\\left(1+\\frac{1}{n}\\right)^{n}=2.7182818\\overset{\\mathrm{def}}{=}e \\quad p.21の(2.7)\n",
    "$$\n",
    "は定義され、これは$x\\in\\mathbb{R}$に対しても拡張され、\n",
    "\n",
    "$$\n",
    "\\lim_{n\\rightarrow\\infty}\\left(1+\\frac{1}{x}\\right)^{x}=e \\quad p.30の(2.23)\n",
    "$$\n",
    "となる。ここでの証明に使われる**はさみこみ(はさみうち?)**は解析学の$\\epsilon - \\delta$法の定石方法。\n",
    "\n",
    "問題2-3 2(4)(p.31)\n",
    "\n",
    "$$\n",
    "\\lim_{x\\rightarrow 0}\\frac{\\log(1+x)}{x}=1\n",
    "$$\n",
    "\n",
    "は、$x=\\frac{1}{y}$とおいて、$x\\rightarrow 0$は$y\\rightarrow\\infty$となるので、\n",
    "\n",
    "$$\n",
    "\\lim_{x\\rightarrow 0}\\frac{\\log(1+x)}{x}=\\lim_{y\\rightarrow\\infty}\\frac{\\log(1+\\frac{1}{y})}{1/y}\n",
    "=\\lim_{y\\rightarrow\\infty}y\\cdot\\log\\left(1+\\frac{1}{y}\\right)\n",
    "=\\lim_{y\\rightarrow\\infty}\\log\\left(1+\\frac{1}{y}\\right)^{y}\n",
    "\\overset{\\mathrm{(2.23)より}}{=}\\log e=1\n",
    "$$"
   ]
  }
 ],
 "metadata": {
  "kernelspec": {
   "display_name": "Python 3",
   "language": "python",
   "name": "python3"
  },
  "language_info": {
   "codemirror_mode": {
    "name": "ipython",
    "version": 3
   },
   "file_extension": ".py",
   "mimetype": "text/x-python",
   "name": "python",
   "nbconvert_exporter": "python",
   "pygments_lexer": "ipython3",
   "version": "3.6.3"
  }
 },
 "nbformat": 4,
 "nbformat_minor": 2
}
